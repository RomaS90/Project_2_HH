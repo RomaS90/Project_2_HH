{
  "cells": [
    {
      "cell_type": "markdown",
      "id": "42289889-bd57-434e-9637-d3e354756316",
      "metadata": {
        "id": "42289889-bd57-434e-9637-d3e354756316"
      },
      "source": [
        "<center> <img src = https://raw.githubusercontent.com/AndreyRysistov/DatasetsForPandas/main/hh%20label.jpg alt=\"drawing\" style=\"width:400px;\">"
      ]
    },
    {
      "cell_type": "markdown",
      "id": "829cb75b-f14e-4ba8-9195-7ba929a7d656",
      "metadata": {
        "id": "829cb75b-f14e-4ba8-9195-7ba929a7d656",
        "tags": []
      },
      "source": [
        "# <center> Проект: Анализ вакансий из HeadHunter\n",
        "   "
      ]
    },
    {
      "cell_type": "code",
      "execution_count": 54,
      "id": "dccfde33-2452-43fb-a8a5-5c6ebc02a71d",
      "metadata": {
        "id": "dccfde33-2452-43fb-a8a5-5c6ebc02a71d"
      },
      "outputs": [],
      "source": [
        "import pandas as pd\n",
        "import psycopg2\n",
        "import warnings\n",
        "from IPython.display import display\n",
        "import warnings\n",
        "warnings.filterwarnings(\"ignore\")\n",
        "\n"
      ]
    },
    {
      "cell_type": "code",
      "execution_count": null,
      "id": "oVKH4ehvf8Ay",
      "metadata": {
        "id": "oVKH4ehvf8Ay"
      },
      "outputs": [],
      "source": [
        "DBNAME = '*********'\n",
        "USER = '*********'\n",
        "PASSWORD = '*********'\n",
        "HOST = '*********'\n",
        "PORT = '*********'"
      ]
    },
    {
      "cell_type": "code",
      "execution_count": 56,
      "id": "G4X_q8KBf7SF",
      "metadata": {
        "id": "G4X_q8KBf7SF"
      },
      "outputs": [],
      "source": [
        "connection = psycopg2.connect(\n",
        "    dbname=DBNAME,\n",
        "    user=USER,\n",
        "    host=HOST,\n",
        "    password=PASSWORD,\n",
        "    port=PORT\n",
        ")"
      ]
    },
    {
      "cell_type": "markdown",
      "id": "0dc6476b-7a00-44f1-ac93-6e3baed33a29",
      "metadata": {
        "id": "0dc6476b-7a00-44f1-ac93-6e3baed33a29"
      },
      "source": [
        "# Юнит 3. Предварительный анализ данных"
      ]
    },
    {
      "cell_type": "markdown",
      "id": "889782b6-8d1c-410e-8920-e57f27917c64",
      "metadata": {
        "id": "889782b6-8d1c-410e-8920-e57f27917c64"
      },
      "source": [
        "1. Напишите запрос, который посчитает количество вакансий в нашей базе (вакансии находятся в таблице vacancies). "
      ]
    },
    {
      "cell_type": "code",
      "execution_count": 57,
      "id": "bc39e68e-ed02-4ee2-9235-7258a2f867a8",
      "metadata": {
        "id": "bc39e68e-ed02-4ee2-9235-7258a2f867a8"
      },
      "outputs": [],
      "source": [
        "# SQL-запрос для подсчёта общего количества вакансий в таблице \n",
        "query_3_1 = f'''\n",
        "    SELECT count(*)\n",
        "    FROM VACANCIES\n",
        "'''"
      ]
    },
    {
      "cell_type": "code",
      "execution_count": 58,
      "id": "7mAwtsk4hEHY",
      "metadata": {
        "id": "7mAwtsk4hEHY"
      },
      "outputs": [
        {
          "data": {
            "text/plain": [
              "'Вакансий в базе: 49197'"
            ]
          },
          "metadata": {},
          "output_type": "display_data"
        }
      ],
      "source": [
        "# Выполняем SQL-запрос и извлекаем результат\n",
        "try:\n",
        "    result_df = pd.read_sql_query(query_3_1, connection)\n",
        "    \n",
        "    # Проверяем, что результат не пустой\n",
        "    if not result_df.empty:\n",
        "        # Получаем первое (и единственное) значение из результата запроса\n",
        "        total_vacancies = int(result_df.iloc[0, 0])\n",
        "        # Выводим результат с подписью\n",
        "        display(f'Вакансий в базе: {total_vacancies}')\n",
        "    else:\n",
        "        print(\"Ошибка: Результат запроса пустой.\")\n",
        "except Exception as e:\n",
        "    print(f\"Произошла ошибка при выполнении запроса: {e}\")"
      ]
    },
    {
      "cell_type": "markdown",
      "id": "b583485d-1f9e-494e-ada4-80ffff7c53d6",
      "metadata": {
        "id": "b583485d-1f9e-494e-ada4-80ffff7c53d6"
      },
      "source": [
        "2. Напишите запрос, который посчитает количество работодателей (таблица employers). "
      ]
    },
    {
      "cell_type": "code",
      "execution_count": 59,
      "id": "5408c52c-3407-4a63-b25b-1aafa2322d28",
      "metadata": {
        "id": "5408c52c-3407-4a63-b25b-1aafa2322d28"
      },
      "outputs": [],
      "source": [
        "# SQL-запрос для подсчёта общего количества работодателей в таблице \n",
        "query_3_2 = f'''\n",
        "    SELECT COUNT(*) AS total_employers\n",
        "    FROM EMPLOYERS\n",
        "'''"
      ]
    },
    {
      "cell_type": "code",
      "execution_count": 60,
      "id": "jVL4eshKhdqc",
      "metadata": {
        "id": "jVL4eshKhdqc"
      },
      "outputs": [
        {
          "data": {
            "text/plain": [
              "'Работодателей в базе: 23501'"
            ]
          },
          "metadata": {},
          "output_type": "display_data"
        }
      ],
      "source": [
        "# Выполняем SQL-запрос и извлекаем результат\n",
        "try:\n",
        "    result_df = pd.read_sql_query(query_3_2, connection)\n",
        "    \n",
        "    # Проверяем, что результат не пустой\n",
        "    if not result_df.empty:\n",
        "        # Получаем первое (и единственное) значение из результата запроса\n",
        "        total_employers = int(result_df.iloc[0, 0])\n",
        "        # Выводим результат с подписью\n",
        "        display(f'Работодателей в базе: {total_employers}')\n",
        "    else:\n",
        "        print(\"Ошибка: Результат запроса пустой.\")\n",
        "except Exception as e:\n",
        "    print(f\"Произошла ошибка при выполнении запроса: {e}\")"
      ]
    },
    {
      "cell_type": "markdown",
      "id": "a2bfff1f-c975-4bf6-84be-2185d79dcb76",
      "metadata": {
        "id": "a2bfff1f-c975-4bf6-84be-2185d79dcb76"
      },
      "source": [
        "3. Посчитате с помощью запроса количество регионов (таблица areas)."
      ]
    },
    {
      "cell_type": "code",
      "execution_count": 61,
      "id": "1m8QJwBYhey6",
      "metadata": {
        "id": "1m8QJwBYhey6"
      },
      "outputs": [],
      "source": [
        "# SQL-запрос для подсчёта общего количества регионов в таблице \n",
        "query_3_3 = f'''\n",
        "    SELECT COUNT(*)\n",
        "    FROM AREAS\n",
        "'''\n"
      ]
    },
    {
      "cell_type": "code",
      "execution_count": 62,
      "id": "EZsn9tlfhe7f",
      "metadata": {
        "id": "EZsn9tlfhe7f"
      },
      "outputs": [
        {
          "data": {
            "text/plain": [
              "'Регионов в базе: 1362'"
            ]
          },
          "metadata": {},
          "output_type": "display_data"
        }
      ],
      "source": [
        "# Выполняем SQL-запрос и извлекаем результат\n",
        "try:\n",
        "    result_df = pd.read_sql_query(query_3_3, connection)\n",
        "    \n",
        "    # Проверяем, что результат не пустой\n",
        "    if not result_df.empty:\n",
        "        # Получаем первое (и единственное) значение из результата запроса\n",
        "        total_areas = int(result_df.iloc[0, 0])  # Или через алиас: result_df['total_areas'].iloc[0]\n",
        "        # Выводим результат с подписью\n",
        "        display(f'Регионов в базе: {total_areas}')\n",
        "    else:\n",
        "        print(\"Ошибка: Таблица AREAS пуста или не существует.\")\n",
        "except Exception as e:\n",
        "    print(f\"Произошла ошибка при выполнении запроса: {e}\")"
      ]
    },
    {
      "cell_type": "markdown",
      "id": "41bb59f3-53cc-4a67-a5bc-bedf573955e4",
      "metadata": {
        "id": "41bb59f3-53cc-4a67-a5bc-bedf573955e4"
      },
      "source": [
        "4. Посчитате с помощью запроса количество сфер деятельности в базе (таблица industries)."
      ]
    },
    {
      "cell_type": "code",
      "execution_count": 63,
      "id": "d286cf4c-707b-4cd2-9190-7ab3587d04a1",
      "metadata": {
        "id": "d286cf4c-707b-4cd2-9190-7ab3587d04a1"
      },
      "outputs": [],
      "source": [
        "# SQL-запрос для подсчёта общего количества отраслей в таблице \n",
        "query_3_4 = f'''\n",
        "    SELECT COUNT(*)\n",
        "    FROM INDUSTRIES\n",
        "'''"
      ]
    },
    {
      "cell_type": "code",
      "execution_count": 64,
      "id": "JYAaoZ4qhfzW",
      "metadata": {
        "id": "JYAaoZ4qhfzW"
      },
      "outputs": [
        {
          "data": {
            "text/plain": [
              "'Отраслей в базе: 294'"
            ]
          },
          "metadata": {},
          "output_type": "display_data"
        }
      ],
      "source": [
        "try:\n",
        "    result_df = pd.read_sql_query(query_3_4, connection)\n",
        "    \n",
        "    # Проверка на пустой результат\n",
        "    if not result_df.empty:\n",
        "        total_industries = int(result_df.iloc[0, 0])  # Или через алиас: result_df['total_industries'].iloc[0]\n",
        "        display(f'Отраслей в базе: {total_industries}')\n",
        "    else:\n",
        "        print(\"Ошибка: Таблица INDUSTRIES пуста или не существует.\")\n",
        "except Exception as e:\n",
        "    print(f\"Произошла ошибка при выполнении запроса: {e}\")"
      ]
    },
    {
      "cell_type": "markdown",
      "id": "9a8a2181-6914-448b-85f1-38f5f18b8a93",
      "metadata": {
        "id": "9a8a2181-6914-448b-85f1-38f5f18b8a93"
      },
      "source": [
        "***"
      ]
    },
    {
      "cell_type": "markdown",
      "id": "fb301c91",
      "metadata": {},
      "source": [
        "## 📁 Аналитика базы данных\n",
        "\n",
        "### 📌 Основные показатели:\n",
        "| Категория              | Количество записей | Примечание |\n",
        "|------------------------|--------------------|--------|\n",
        "| **Вакансии**💼           | 49 197             |      |\n",
        "| **Работодатели**🏢       | 23 501             |      |\n",
        "| **Географические регионы**🌍 | 1 362          |      |\n",
        "| **Индустрии**🧩          | 294                |      |\n",
        "\n",
        "---\n",
        "\n",
        "### ✅ Статус подключения:\n",
        "- **Соединение с БД:** Установлено  \n",
        "- **Доступ к данным:** Подтверждено  \n",
        "- **Готовность к анализу:** ✅  \n",
        "\n",
        "> *Данные актуальны на момент последнего обновления. Для углублённого анализа рекомендуется использовать агрегированные запросы и визуализацию.*"
      ]
    },
    {
      "cell_type": "markdown",
      "id": "8d62a9f3-f64e-4fe7-bdac-c4dffa16155e",
      "metadata": {
        "id": "8d62a9f3-f64e-4fe7-bdac-c4dffa16155e"
      },
      "source": [
        "# Юнит 4. Детальный анализ вакансий"
      ]
    },
    {
      "cell_type": "markdown",
      "id": "93053d3d-b284-481a-9cf7-012d7014c0e0",
      "metadata": {
        "id": "93053d3d-b284-481a-9cf7-012d7014c0e0"
      },
      "source": [
        "1. Напишите запрос, который позволит узнать, сколько (cnt) вакансий в каждом регионе (area).\n",
        "Отсортируйте по количеству вакансий в порядке убывания."
      ]
    },
    {
      "cell_type": "code",
      "execution_count": 65,
      "id": "3f069da6-fdc9-4ae7-b514-fafe2675efd3",
      "metadata": {
        "id": "3f069da6-fdc9-4ae7-b514-fafe2675efd3"
      },
      "outputs": [],
      "source": [
        "# SQL-запрос для получения ТОП-5 регионов с наибольшим количеством вакансий \n",
        "# Используется LIMIT 5 для оптимизации производительности и соответствия требованиям тестирования\n",
        "query_4_1 = f'''\n",
        "    SELECT \n",
        "        a.name AS region_name,          -- Название региона\n",
        "        COUNT(v.id) AS total_vacancies  -- Количество вакансий в регионе\n",
        "    FROM AREAS a\n",
        "    JOIN VACANCIES v ON a.id = v.area_id  -- Связь таблицы регионов с вакансиями\n",
        "    GROUP BY a.id, a.name                -- Группировка по региону\n",
        "    ORDER BY total_vacancies DESC        -- Сортировка по убыванию количества вакансий\n",
        "    LIMIT 5                              -- Ограничение на ТОП-5\n",
        "'''"
      ]
    },
    {
      "cell_type": "code",
      "execution_count": 66,
      "id": "P7QL86hrjhRJ",
      "metadata": {
        "id": "P7QL86hrjhRJ"
      },
      "outputs": [
        {
          "name": "stdout",
          "output_type": "stream",
          "text": [
            "ТОП-5 регионов по количеству вакансий:\n"
          ]
        },
        {
          "data": {
            "application/vnd.microsoft.datawrangler.viewer.v0+json": {
              "columns": [
                {
                  "name": "index",
                  "rawType": "int64",
                  "type": "integer"
                },
                {
                  "name": "region_name",
                  "rawType": "object",
                  "type": "string"
                },
                {
                  "name": "total_vacancies",
                  "rawType": "int64",
                  "type": "integer"
                }
              ],
              "conversionMethod": "pd.DataFrame",
              "ref": "8f7d494c-be06-49a3-9bc1-2793c664e5df",
              "rows": [
                [
                  "0",
                  "Москва",
                  "5333"
                ],
                [
                  "1",
                  "Санкт-Петербург",
                  "2851"
                ],
                [
                  "2",
                  "Минск",
                  "2112"
                ],
                [
                  "3",
                  "Новосибирск",
                  "2006"
                ],
                [
                  "4",
                  "Алматы",
                  "1892"
                ]
              ],
              "shape": {
                "columns": 2,
                "rows": 5
              }
            },
            "text/html": [
              "<div>\n",
              "<style scoped>\n",
              "    .dataframe tbody tr th:only-of-type {\n",
              "        vertical-align: middle;\n",
              "    }\n",
              "\n",
              "    .dataframe tbody tr th {\n",
              "        vertical-align: top;\n",
              "    }\n",
              "\n",
              "    .dataframe thead th {\n",
              "        text-align: right;\n",
              "    }\n",
              "</style>\n",
              "<table border=\"1\" class=\"dataframe\">\n",
              "  <thead>\n",
              "    <tr style=\"text-align: right;\">\n",
              "      <th></th>\n",
              "      <th>region_name</th>\n",
              "      <th>total_vacancies</th>\n",
              "    </tr>\n",
              "  </thead>\n",
              "  <tbody>\n",
              "    <tr>\n",
              "      <th>0</th>\n",
              "      <td>Москва</td>\n",
              "      <td>5333</td>\n",
              "    </tr>\n",
              "    <tr>\n",
              "      <th>1</th>\n",
              "      <td>Санкт-Петербург</td>\n",
              "      <td>2851</td>\n",
              "    </tr>\n",
              "    <tr>\n",
              "      <th>2</th>\n",
              "      <td>Минск</td>\n",
              "      <td>2112</td>\n",
              "    </tr>\n",
              "    <tr>\n",
              "      <th>3</th>\n",
              "      <td>Новосибирск</td>\n",
              "      <td>2006</td>\n",
              "    </tr>\n",
              "    <tr>\n",
              "      <th>4</th>\n",
              "      <td>Алматы</td>\n",
              "      <td>1892</td>\n",
              "    </tr>\n",
              "  </tbody>\n",
              "</table>\n",
              "</div>"
            ],
            "text/plain": [
              "       region_name  total_vacancies\n",
              "0           Москва             5333\n",
              "1  Санкт-Петербург             2851\n",
              "2            Минск             2112\n",
              "3      Новосибирск             2006\n",
              "4           Алматы             1892"
            ]
          },
          "metadata": {},
          "output_type": "display_data"
        }
      ],
      "source": [
        "try:\n",
        "    result_df = pd.read_sql_query(query_4_1, connection)\n",
        "    if not result_df.empty:\n",
        "        print(\"ТОП-5 регионов по количеству вакансий:\")\n",
        "        display(result_df)\n",
        "    else:\n",
        "        print(\"Ошибка: Результат запроса пустой.\")\n",
        "except Exception as e:\n",
        "    print(f\"Произошла ошибка: {e}\")"
      ]
    },
    {
      "cell_type": "markdown",
      "id": "4266f0b6-1646-492a-88b4-2f6a46502135",
      "metadata": {
        "id": "4266f0b6-1646-492a-88b4-2f6a46502135"
      },
      "source": [
        "2. Напишите запрос, чтобы определить у какого количества вакансий заполнено хотя бы одно из двух полей с зарплатой."
      ]
    },
    {
      "cell_type": "code",
      "execution_count": 67,
      "id": "0c44b350-72eb-4d65-8b54-a1fc449ba9fd",
      "metadata": {
        "id": "0c44b350-72eb-4d65-8b54-a1fc449ba9fd"
      },
      "outputs": [],
      "source": [
        "# SQL-запрос для подсчёта количества вакансий с указанием зарплаты\n",
        "# Учитываются вакансии, где хотя бы одно из полей (salary_from или salary_to) заполнено\n",
        "query_4_2 = f'''\n",
        "    SELECT \n",
        "        COUNT(*) AS total_salary_vacancies  -- Количество вакансий с указанием зарплаты\n",
        "    FROM VACANCIES v\n",
        "    WHERE salary_from IS NOT NULL OR salary_to IS NOT NULL  -- Фильтр по наличию данных о зарплате\n",
        "'''"
      ]
    },
    {
      "cell_type": "code",
      "execution_count": 68,
      "id": "rhvwaMDkoWTi",
      "metadata": {
        "id": "rhvwaMDkoWTi"
      },
      "outputs": [
        {
          "data": {
            "text/plain": [
              "'Вакансий с указанием зарплаты: 24073'"
            ]
          },
          "metadata": {},
          "output_type": "display_data"
        }
      ],
      "source": [
        "try:\n",
        "    result_df = pd.read_sql_query(query_4_2, connection)\n",
        "    \n",
        "    # Проверка на пустой результат\n",
        "    if not result_df.empty:\n",
        "        total_vacancies = int(result_df['total_salary_vacancies'].iloc[0])\n",
        "        display(f'Вакансий с указанием зарплаты: {total_vacancies}')\n",
        "    else:\n",
        "        print(\"Ошибка: Результат запроса пустой или таблица VACANCIES не существует.\")\n",
        "except Exception as e:\n",
        "    print(f\"Произошла ошибка при выполнении запроса: {e}\")"
      ]
    },
    {
      "cell_type": "markdown",
      "id": "635c4d5d-f323-4c66-b428-50a088120aa0",
      "metadata": {
        "id": "635c4d5d-f323-4c66-b428-50a088120aa0"
      },
      "source": [
        "3. Найдите средние значения для нижней и верхней границы зарплатной вилки. Округлите значения до целого."
      ]
    },
    {
      "cell_type": "code",
      "execution_count": 69,
      "id": "603cdbe4-0ec3-4106-8eaf-c73fcdd29165",
      "metadata": {
        "id": "603cdbe4-0ec3-4106-8eaf-c73fcdd29165"
      },
      "outputs": [],
      "source": [
        "# SQL-запрос для вычисления средних значений зарплат по вакансиям \n",
        "# Рассчитываются округлённые средние значения по полям \"salary_from\" и \"salary_to\"\n",
        "query_4_3 = f'''\n",
        "    SELECT \n",
        "        ROUND(AVG(salary_from)) AS avg_salary_from,  -- Средняя минимальная зарплата\n",
        "        ROUND(AVG(salary_to)) AS avg_salary_to       -- Средняя максимальная зарплата\n",
        "    FROM VACANCIES\n",
        "    WHERE salary_from IS NOT NULL OR salary_to IS NOT NULL  -- Только вакансии с указанием зарплаты\n",
        "'''"
      ]
    },
    {
      "cell_type": "code",
      "execution_count": 70,
      "id": "pswpAb66ovZZ",
      "metadata": {
        "id": "pswpAb66ovZZ"
      },
      "outputs": [
        {
          "data": {
            "text/plain": [
              "'Средняя минимальная зарплата: 71065 ₽'"
            ]
          },
          "metadata": {},
          "output_type": "display_data"
        },
        {
          "data": {
            "text/plain": [
              "'Средняя максимальная зарплата: 110537 ₽'"
            ]
          },
          "metadata": {},
          "output_type": "display_data"
        }
      ],
      "source": [
        "try:\n",
        "    result_df = pd.read_sql_query(query_4_3, connection)\n",
        "    \n",
        "    # Проверка на пустой результат\n",
        "    if not result_df.empty:\n",
        "        avg_from = int(result_df['avg_salary_from'].iloc[0])\n",
        "        avg_to = int(result_df['avg_salary_to'].iloc[0])\n",
        "        display(f'Средняя минимальная зарплата: {avg_from} ₽')\n",
        "        display(f'Средняя максимальная зарплата: {avg_to} ₽')\n",
        "    else:\n",
        "        print(\"Ошибка: Результат запроса пустой или таблица VACANCIES не существует.\")\n",
        "except Exception as e:\n",
        "    print(f\"Произошла ошибка при выполнении запроса: {e}\")"
      ]
    },
    {
      "cell_type": "markdown",
      "id": "f3fdaec9-5fd3-4260-9cf5-1d7406b628a5",
      "metadata": {
        "id": "f3fdaec9-5fd3-4260-9cf5-1d7406b628a5"
      },
      "source": [
        "4. Напишите запрос, который выведет количество вакансий для каждого сочетания типа рабочего графика (schedule) и типа трудоустройства (employment), используемого в вакансиях. Результат отсортируйте по убыванию количества.\n"
      ]
    },
    {
      "cell_type": "code",
      "execution_count": 71,
      "id": "1ea710ec-871b-431e-9462-c7d0fd87011b",
      "metadata": {
        "id": "1ea710ec-871b-431e-9462-c7d0fd87011b"
      },
      "outputs": [],
      "source": [
        "# SQL-запрос для получения пары \"график + занятость\" с наибольшим количеством вакансий на втором месте \n",
        "# OFFSET 1 + LIMIT 1 возвращает **вторую** запись из отсортированного списка (для тестирования)\n",
        "# Для полного списка уберите блок OFFSET ... LIMIT ...\n",
        "query_4_4 = f'''\n",
        "    SELECT \n",
        "        schedule AS work_schedule,          -- График работы\n",
        "        employment AS employment_type,      -- Тип занятости\n",
        "        COUNT(*) AS total_vacancies         -- Количество вакансий\n",
        "    FROM VACANCIES v\n",
        "    GROUP BY 1, 2 \n",
        "    ORDER BY total_vacancies DESC           -- Сортировка по убыванию количества вакансий\n",
        "    OFFSET 1                                -- Пропуск первой строки (максимальное значение)\n",
        "    LIMIT 1                                 -- Получение только второй строки\n",
        "'''"
      ]
    },
    {
      "cell_type": "code",
      "execution_count": 72,
      "id": "lGUVqavdo4JQ",
      "metadata": {
        "id": "lGUVqavdo4JQ"
      },
      "outputs": [
        {
          "data": {
            "text/plain": [
              "'На втором месте: \"Удаленная работа + Полная занятость\" с 7802 вакансиями'"
            ]
          },
          "metadata": {},
          "output_type": "display_data"
        }
      ],
      "source": [
        "try:\n",
        "    result_df = pd.read_sql_query(query_4_4, connection)\n",
        "    \n",
        "    # Проверка на пустой результат\n",
        "    if not result_df.empty:\n",
        "        schedule = result_df['work_schedule'].iloc[0]\n",
        "        employment = result_df['employment_type'].iloc[0]\n",
        "        count = int(result_df['total_vacancies'].iloc[0])\n",
        "        display(f'На втором месте: \"{schedule} + {employment}\" с {count} вакансиями')\n",
        "    else:\n",
        "        print(\"Ошибка: Результат запроса пустой или таблица VACANCIES не существует.\")\n",
        "except Exception as e:\n",
        "    print(f\"Произошла ошибка при выполнении запроса: {e}\")"
      ]
    },
    {
      "cell_type": "markdown",
      "id": "0136ffee-0ead-4a6b-b608-61d1c753a438",
      "metadata": {
        "id": "0136ffee-0ead-4a6b-b608-61d1c753a438"
      },
      "source": [
        "5. Напишите запрос, выводящий значения поля Требуемый опыт работы (experience) в порядке возрастания количества вакансий, в которых указан данный вариант опыта. "
      ]
    },
    {
      "cell_type": "code",
      "execution_count": 73,
      "id": "5b3a8e79-f7ab-4008-b767-12aea3a205ea",
      "metadata": {
        "id": "5b3a8e79-f7ab-4008-b767-12aea3a205ea"
      },
      "outputs": [],
      "source": [
        "# SQL-запрос для анализа распределения вакансий по требуемому опыту \n",
        "# Группировка по уровню опыта с подсчётом количества вакансий, сортировка по возрастанию\n",
        "query_4_5 = f'''\n",
        "    SELECT \n",
        "        experience AS required_experience,  -- Уровень требуемого опыта\n",
        "        COUNT(*) AS total_vacancies         -- Количество вакансий\n",
        "    FROM VACANCIES\n",
        "    GROUP BY required_experience            -- Группировка по опыту\n",
        "    ORDER BY total_vacancies ASC            -- Сортировка по возрастанию числа вакансий\n",
        "'''"
      ]
    },
    {
      "cell_type": "code",
      "execution_count": 74,
      "id": "3Is64Y-hpDpq",
      "metadata": {
        "id": "3Is64Y-hpDpq"
      },
      "outputs": [
        {
          "name": "stdout",
          "output_type": "stream",
          "text": [
            "Распределение вакансий по уровню требуемого опыта:\n"
          ]
        },
        {
          "data": {
            "application/vnd.microsoft.datawrangler.viewer.v0+json": {
              "columns": [
                {
                  "name": "index",
                  "rawType": "int64",
                  "type": "integer"
                },
                {
                  "name": "required_experience",
                  "rawType": "object",
                  "type": "string"
                },
                {
                  "name": "total_vacancies",
                  "rawType": "int64",
                  "type": "integer"
                }
              ],
              "conversionMethod": "pd.DataFrame",
              "ref": "0f28ffdc-b4cd-493e-b0ac-9d0413e741f9",
              "rows": [
                [
                  "0",
                  "Более 6 лет",
                  "1337"
                ],
                [
                  "1",
                  "Нет опыта",
                  "7197"
                ],
                [
                  "2",
                  "От 3 до 6 лет",
                  "14511"
                ],
                [
                  "3",
                  "От 1 года до 3 лет",
                  "26152"
                ]
              ],
              "shape": {
                "columns": 2,
                "rows": 4
              }
            },
            "text/html": [
              "<div>\n",
              "<style scoped>\n",
              "    .dataframe tbody tr th:only-of-type {\n",
              "        vertical-align: middle;\n",
              "    }\n",
              "\n",
              "    .dataframe tbody tr th {\n",
              "        vertical-align: top;\n",
              "    }\n",
              "\n",
              "    .dataframe thead th {\n",
              "        text-align: right;\n",
              "    }\n",
              "</style>\n",
              "<table border=\"1\" class=\"dataframe\">\n",
              "  <thead>\n",
              "    <tr style=\"text-align: right;\">\n",
              "      <th></th>\n",
              "      <th>required_experience</th>\n",
              "      <th>total_vacancies</th>\n",
              "    </tr>\n",
              "  </thead>\n",
              "  <tbody>\n",
              "    <tr>\n",
              "      <th>0</th>\n",
              "      <td>Более 6 лет</td>\n",
              "      <td>1337</td>\n",
              "    </tr>\n",
              "    <tr>\n",
              "      <th>1</th>\n",
              "      <td>Нет опыта</td>\n",
              "      <td>7197</td>\n",
              "    </tr>\n",
              "    <tr>\n",
              "      <th>2</th>\n",
              "      <td>От 3 до 6 лет</td>\n",
              "      <td>14511</td>\n",
              "    </tr>\n",
              "    <tr>\n",
              "      <th>3</th>\n",
              "      <td>От 1 года до 3 лет</td>\n",
              "      <td>26152</td>\n",
              "    </tr>\n",
              "  </tbody>\n",
              "</table>\n",
              "</div>"
            ],
            "text/plain": [
              "  required_experience  total_vacancies\n",
              "0         Более 6 лет             1337\n",
              "1           Нет опыта             7197\n",
              "2       От 3 до 6 лет            14511\n",
              "3  От 1 года до 3 лет            26152"
            ]
          },
          "metadata": {},
          "output_type": "display_data"
        }
      ],
      "source": [
        "try:\n",
        "    result_df = pd.read_sql_query(query_4_5, connection)\n",
        "    \n",
        "    # Проверка на пустой результат\n",
        "    if not result_df.empty:\n",
        "        print(\"Распределение вакансий по уровню требуемого опыта:\")\n",
        "        display(result_df)\n",
        "    else:\n",
        "        print(\"Ошибка: Результат запроса пустой или таблица VACANCIES не существует.\")\n",
        "except Exception as e:\n",
        "    print(f\"Произошла ошибка при выполнении запроса: {e}\")"
      ]
    },
    {
      "cell_type": "markdown",
      "id": "oq2b7n1QpIka",
      "metadata": {
        "id": "oq2b7n1QpIka"
      },
      "source": [
        "***"
      ]
    },
    {
      "cell_type": "markdown",
      "id": "d5ea9ad7",
      "metadata": {},
      "source": [
        "Вывод:\n",
        "Логично, в ходе расчетов выяснилось, что самое большое количество вакансий в самых больших городах. Мы также выяснили средние значения верхней границы зарплатных вилок, из разница составляет 35%, однако для более детального анализа хотелось бы оценить медианное значения, а также выделить самые крупные города, т.к. возможно предположить, что их влияние на расчет может искажать данные\n",
        "\n",
        "Удалось выяснить, что самая востребованный вид работы - это удаленный при полной занятости, а также требования к стажу самые высокие - минимум 1 го\n",
        "\n",
        "Также есть вакансии для людей без опыта"
      ]
    },
    {
      "cell_type": "markdown",
      "id": "7ea20ab6-04a7-40a0-adec-443a0e5a42c3",
      "metadata": {
        "id": "7ea20ab6-04a7-40a0-adec-443a0e5a42c3"
      },
      "source": [
        "# Юнит 5. Анализ работодателей"
      ]
    },
    {
      "cell_type": "markdown",
      "id": "968aed80-74ef-4ffb-b5bf-c65b84e9caea",
      "metadata": {
        "id": "968aed80-74ef-4ffb-b5bf-c65b84e9caea"
      },
      "source": [
        "1. Напишите запрос, который позволит узнать, какие работодатели находятся на первом и пятом месте по количеству вакансий."
      ]
    },
    {
      "cell_type": "code",
      "execution_count": 75,
      "id": "f2d62796-d400-4ec1-a675-88112739a50e",
      "metadata": {
        "id": "f2d62796-d400-4ec1-a675-88112739a50e"
      },
      "outputs": [],
      "source": [
        "# SQL-запрос для получения ТОП-5 работодателей по количеству вакансий \n",
        "# Используется JOIN для связи таблиц VACANCIES и EMPLOYERS, сортировка по убыванию количества вакансий\n",
        "# Для тестирования возвращаются первые 5 записей\n",
        "query_5_1 = f'''\n",
        "    SELECT \n",
        "        e.name AS employer_name,          -- Название работодателя\n",
        "        COUNT(v.id) AS total_vacancies    -- Количество вакансий у работодателя\n",
        "    FROM VACANCIES v\n",
        "    INNER JOIN EMPLOYERS e ON v.employer_id = e.id  -- Связь таблицы вакансий с работодателями\n",
        "    GROUP BY e.name                        -- Группировка по названию работодателя\n",
        "    ORDER BY total_vacancies DESC          -- Сортировка по убыванию количества вакансий\n",
        "    LIMIT 5                                -- Ограничение на ТОП-5\n",
        "'''"
      ]
    },
    {
      "cell_type": "code",
      "execution_count": 76,
      "id": "64tOMkAxqkQk",
      "metadata": {
        "id": "64tOMkAxqkQk"
      },
      "outputs": [
        {
          "name": "stdout",
          "output_type": "stream",
          "text": [
            "ТОП-5 работодателей по количеству вакансий:\n"
          ]
        },
        {
          "data": {
            "application/vnd.microsoft.datawrangler.viewer.v0+json": {
              "columns": [
                {
                  "name": "index",
                  "rawType": "int64",
                  "type": "integer"
                },
                {
                  "name": "employer_name",
                  "rawType": "object",
                  "type": "string"
                },
                {
                  "name": "total_vacancies",
                  "rawType": "int64",
                  "type": "integer"
                }
              ],
              "conversionMethod": "pd.DataFrame",
              "ref": "e874303c-2ac0-455f-b22e-4fb355315935",
              "rows": [
                [
                  "0",
                  "Яндекс",
                  "1933"
                ],
                [
                  "1",
                  "Ростелеком",
                  "491"
                ],
                [
                  "2",
                  "Тинькофф",
                  "444"
                ],
                [
                  "3",
                  "СБЕР",
                  "428"
                ],
                [
                  "4",
                  "Газпром нефть",
                  "331"
                ]
              ],
              "shape": {
                "columns": 2,
                "rows": 5
              }
            },
            "text/html": [
              "<div>\n",
              "<style scoped>\n",
              "    .dataframe tbody tr th:only-of-type {\n",
              "        vertical-align: middle;\n",
              "    }\n",
              "\n",
              "    .dataframe tbody tr th {\n",
              "        vertical-align: top;\n",
              "    }\n",
              "\n",
              "    .dataframe thead th {\n",
              "        text-align: right;\n",
              "    }\n",
              "</style>\n",
              "<table border=\"1\" class=\"dataframe\">\n",
              "  <thead>\n",
              "    <tr style=\"text-align: right;\">\n",
              "      <th></th>\n",
              "      <th>employer_name</th>\n",
              "      <th>total_vacancies</th>\n",
              "    </tr>\n",
              "  </thead>\n",
              "  <tbody>\n",
              "    <tr>\n",
              "      <th>0</th>\n",
              "      <td>Яндекс</td>\n",
              "      <td>1933</td>\n",
              "    </tr>\n",
              "    <tr>\n",
              "      <th>1</th>\n",
              "      <td>Ростелеком</td>\n",
              "      <td>491</td>\n",
              "    </tr>\n",
              "    <tr>\n",
              "      <th>2</th>\n",
              "      <td>Тинькофф</td>\n",
              "      <td>444</td>\n",
              "    </tr>\n",
              "    <tr>\n",
              "      <th>3</th>\n",
              "      <td>СБЕР</td>\n",
              "      <td>428</td>\n",
              "    </tr>\n",
              "    <tr>\n",
              "      <th>4</th>\n",
              "      <td>Газпром нефть</td>\n",
              "      <td>331</td>\n",
              "    </tr>\n",
              "  </tbody>\n",
              "</table>\n",
              "</div>"
            ],
            "text/plain": [
              "   employer_name  total_vacancies\n",
              "0         Яндекс             1933\n",
              "1     Ростелеком              491\n",
              "2       Тинькофф              444\n",
              "3           СБЕР              428\n",
              "4  Газпром нефть              331"
            ]
          },
          "metadata": {},
          "output_type": "display_data"
        }
      ],
      "source": [
        "try:\n",
        "    result_df = pd.read_sql_query(query_5_1, connection)\n",
        "    if not result_df.empty:\n",
        "        print(\"ТОП-5 работодателей по количеству вакансий:\")\n",
        "        display(result_df)\n",
        "    else:\n",
        "        print(\"Ошибка: Результат запроса пустой.\")\n",
        "except Exception as e:\n",
        "    print(f\"Произошла ошибка: {e}\")"
      ]
    },
    {
      "cell_type": "markdown",
      "id": "68377cfc-b378-43dc-ab7d-1195abf2c515",
      "metadata": {
        "id": "68377cfc-b378-43dc-ab7d-1195abf2c515"
      },
      "source": [
        "2. Напишите запрос, который для каждого региона выведет количество работодателей и вакансий в нём.\n",
        "Среди регионов, в которых нет вакансий, найдите тот, в котором наибольшее количество работодателей.\n"
      ]
    },
    {
      "cell_type": "code",
      "execution_count": 77,
      "id": "dd7df27a-e3e8-412e-a21a-5d389b71e891",
      "metadata": {
        "id": "dd7df27a-e3e8-412e-a21a-5d389b71e891"
      },
      "outputs": [],
      "source": [
        "# SQL-запрос для поиска региона с наибольшим количеством работодателей и отсутствием вакансий \n",
        "# LEFT JOIN связывает регионы с вакансиями и работодателями\n",
        "# WHERE v.id IS NULL фильтрует регионы без вакансий\n",
        "# GROUP BY + ORDER BY emp DESC LIMIT 1 возвращает ТОП-1 регион по числу работодателей\n",
        "query_5_2 = f'''\n",
        "    SELECT \n",
        "        a.name AS region_name,               -- Название региона\n",
        "        COUNT(DISTINCT v.id) AS vacancies,   -- Количество уникальных вакансий (всегда 0 из-за WHERE)\n",
        "        COUNT(DISTINCT e.id) AS employers    -- Количество уникальных работодателей\n",
        "    FROM AREAS a\n",
        "    LEFT JOIN VACANCIES v ON v.area_id = a.id          -- Связь с вакансиями\n",
        "    LEFT JOIN EMPLOYERS e ON e.area = a.id            -- Связь с работодателями\n",
        "    WHERE v.id IS NULL                                -- Фильтр: регионы без вакансий\n",
        "    GROUP BY a.name                                 -- Группировка по региону\n",
        "    ORDER BY employers DESC                           -- Сортировка по убыванию числа работодателей\n",
        "    LIMIT 1                                         -- Ограничение на 1 запись\n",
        "'''"
      ]
    },
    {
      "cell_type": "code",
      "execution_count": 78,
      "id": "x1ikWbydrbf6",
      "metadata": {
        "id": "x1ikWbydrbf6"
      },
      "outputs": [
        {
          "data": {
            "text/plain": [
              "'Регион без вакансий с наибольшим числом работодателей: \"Россия\" (410 работодателей)'"
            ]
          },
          "metadata": {},
          "output_type": "display_data"
        }
      ],
      "source": [
        "try:\n",
        "    result_df = pd.read_sql_query(query_5_2, connection)\n",
        "    \n",
        "    # Проверка на пустой результат\n",
        "    if not result_df.empty:\n",
        "        region = result_df['region_name'].iloc[0]\n",
        "        employers_count = int(result_df['employers'].iloc[0])\n",
        "        display(f'Регион без вакансий с наибольшим числом работодателей: \"{region}\" ({employers_count} работодателей)')\n",
        "    else:\n",
        "        print(\"Ошибка: Результат запроса пустой или таблица AREAS не существует.\")\n",
        "except Exception as e:\n",
        "    print(f\"Произошла ошибка при выполнении запроса: {e}\")"
      ]
    },
    {
      "cell_type": "markdown",
      "id": "f2fe0acb-ab1a-4e15-9326-2560e22d73c1",
      "metadata": {
        "id": "f2fe0acb-ab1a-4e15-9326-2560e22d73c1"
      },
      "source": [
        "3. Для каждого работодателя посчитайте количество регионов, в которых он публикует свои вакансии. Отсортируйте результат по убыванию количества.\n"
      ]
    },
    {
      "cell_type": "code",
      "execution_count": 79,
      "id": "6271f8ad-bd2e-4196-ae4a-5b39c4c1010e",
      "metadata": {
        "id": "6271f8ad-bd2e-4196-ae4a-5b39c4c1010e"
      },
      "outputs": [],
      "source": [
        "# SQL-запрос для поиска работодателя с наибольшим количеством уникальных регионов размещения вакансий (Задание 5.3)\n",
        "# Группировка по employer_id + подсчёт уникальных area_id, сортировка по убыванию, LIMIT 1 возвращает ТОП-1\n",
        "query_5_3 = f'''\n",
        "    SELECT \n",
        "        employer_id,                          -- Идентификатор работодателя\n",
        "        COUNT(DISTINCT area_id) AS regions    -- Количество уникальных регионов размещения вакансий\n",
        "    FROM VACANCIES v\n",
        "    GROUP BY employer_id                      -- Группировка по работодателю\n",
        "    ORDER BY regions DESC                       -- Сортировка по убыванию числа регионов\n",
        "    LIMIT 1                                   -- Ограничение на 1 запись\n",
        "'''"
      ]
    },
    {
      "cell_type": "code",
      "execution_count": 80,
      "id": "1EIvX3HasH4F",
      "metadata": {
        "id": "1EIvX3HasH4F"
      },
      "outputs": [
        {
          "data": {
            "text/plain": [
              "'Работодатель с ID 1740 размещает вакансии в 181 регионах'"
            ]
          },
          "metadata": {},
          "output_type": "display_data"
        }
      ],
      "source": [
        "try:\n",
        "    result_df = pd.read_sql_query(query_5_3, connection)\n",
        "    \n",
        "    # Проверка на пустой результат\n",
        "    if not result_df.empty:\n",
        "        employer_id = int(result_df['employer_id'].iloc[0])\n",
        "        regions_count = int(result_df['regions'].iloc[0])\n",
        "        display(f'Работодатель с ID {employer_id} размещает вакансии в {regions_count} регионах')\n",
        "    else:\n",
        "        print(\"Ошибка: Результат запроса пустой или таблица VACANCIES не существует.\")\n",
        "except Exception as e:\n",
        "    print(f\"Произошла ошибка при выполнении запроса: {e}\")"
      ]
    },
    {
      "cell_type": "markdown",
      "id": "eab2206d-d95b-468b-8e5f-34381abf0ce7",
      "metadata": {
        "id": "eab2206d-d95b-468b-8e5f-34381abf0ce7"
      },
      "source": [
        "4. Напишите запрос для подсчёта количества работодателей, у которых не указана сфера деятельности. "
      ]
    },
    {
      "cell_type": "code",
      "execution_count": 81,
      "id": "80defb23-bfb1-4a18-8be6-bf36aa7165d5",
      "metadata": {
        "id": "80defb23-bfb1-4a18-8be6-bf36aa7165d5"
      },
      "outputs": [],
      "source": [
        "# SQL-запрос для подсчёта количества работодателей, не связанных ни с одной отраслью \n",
        "# LEFT JOIN оставляет строки без совпадений, а условие IS NULL фильтрует их\n",
        "query_5_4 = f'''\n",
        "    SELECT \n",
        "        COUNT(*) AS employers_without_industries  -- Количество работодателей без привязки к отраслям\n",
        "    FROM EMPLOYERS e\n",
        "    LEFT JOIN EMPLOYERS_INDUSTRIES ei ON e.id = ei.employer_id  -- Связь с таблицей отраслей\n",
        "    WHERE ei.industry_id IS NULL  -- Фильтр: только те, у кого нет соответствующих записей в EMPLOYERS_INDUSTRIES\n",
        "'''"
      ]
    },
    {
      "cell_type": "code",
      "execution_count": 82,
      "id": "Dp_yCx6ysQSu",
      "metadata": {
        "id": "Dp_yCx6ysQSu"
      },
      "outputs": [
        {
          "data": {
            "text/plain": [
              "'Работодателей без привязки к отраслям: 8419'"
            ]
          },
          "metadata": {},
          "output_type": "display_data"
        }
      ],
      "source": [
        "try:\n",
        "    result_df = pd.read_sql_query(query_5_4, connection)\n",
        "    \n",
        "    # Проверка на пустой результат\n",
        "    if not result_df.empty:\n",
        "        count = int(result_df['employers_without_industries'].iloc[0])\n",
        "        display(f'Работодателей без привязки к отраслям: {count}')\n",
        "    else:\n",
        "        print(\"Ошибка: Результат запроса пустой или таблица EMPLOYERS не существует.\")\n",
        "except Exception as e:\n",
        "    print(f\"Произошла ошибка при выполнении запроса: {e}\")"
      ]
    },
    {
      "cell_type": "markdown",
      "id": "0112af31-f6b0-4e3b-82ab-71296e752e5e",
      "metadata": {
        "id": "0112af31-f6b0-4e3b-82ab-71296e752e5e"
      },
      "source": [
        "5. Напишите запрос, чтобы узнать название компании, находящейся на третьем месте в алфавитном списке (по названию) компаний, у которых указано четыре сферы деятельности. "
      ]
    },
    {
      "cell_type": "code",
      "execution_count": 83,
      "id": "973b0cfc-a972-470a-8b4a-68744ef220c4",
      "metadata": {
        "id": "973b0cfc-a972-470a-8b4a-68744ef220c4"
      },
      "outputs": [],
      "source": [
        "# SQL-запрос для поиска названия работодателя, связанного ровно с 4 отраслями \n",
        "# Используется LEFT JOIN и HAVING для фильтрации по количеству связанных отраслей\n",
        "# OFFSET 2 + LIMIT 1 возвращает третью запись в алфавитном порядке (для тестирования)\n",
        "query_5_5 = f'''\n",
        "    SELECT \n",
        "        e.name AS employer_name  -- Название работодателя\n",
        "    FROM EMPLOYERS e\n",
        "    LEFT JOIN EMPLOYERS_INDUSTRIES ei ON e.id = ei.employer_id  -- Связь с отраслями\n",
        "    GROUP BY e.id, e.name         -- Группировка по ID и названию работодателя\n",
        "    HAVING COUNT(ei.industry_id) = 4  -- Только те, у кого ровно 4 отрасли\n",
        "    ORDER BY e.name               -- Сортировка по алфавиту\n",
        "    OFFSET 2                      -- Пропустить первые 2 строки\n",
        "    LIMIT 1                       -- Получить только одну (третью по счету)\n",
        "'''"
      ]
    },
    {
      "cell_type": "code",
      "execution_count": 84,
      "id": "xsPtpp8EsaED",
      "metadata": {
        "id": "xsPtpp8EsaED"
      },
      "outputs": [
        {
          "data": {
            "text/plain": [
              "'Работодатель с 4 отраслями на позиции №3: 2ГИС'"
            ]
          },
          "metadata": {},
          "output_type": "display_data"
        }
      ],
      "source": [
        "try:\n",
        "    result_df = pd.read_sql_query(query_5_5, connection)\n",
        "\n",
        "    if not result_df.empty:\n",
        "        employer_name = result_df['employer_name'].iloc[0]\n",
        "        display(f'Работодатель с 4 отраслями на позиции №3: {employer_name}')\n",
        "    else:\n",
        "        print(\"Ошибка: Результат запроса пустой или нет подходящих записей.\")\n",
        "except Exception as e:\n",
        "    print(f\"Произошла ошибка при выполнении запроса: {e}\")"
      ]
    },
    {
      "cell_type": "markdown",
      "id": "3bfcfdaf-755d-4d2b-8ed8-326201dc07ab",
      "metadata": {
        "id": "3bfcfdaf-755d-4d2b-8ed8-326201dc07ab"
      },
      "source": [
        "6. С помощью запроса выясните, у какого количества работодателей в качестве сферы деятельности указана Разработка программного обеспечения.\n"
      ]
    },
    {
      "cell_type": "code",
      "execution_count": 85,
      "id": "ad3f270f-2991-47eb-929b-e8f88a55b0d1",
      "metadata": {
        "id": "ad3f270f-2991-47eb-929b-e8f88a55b0d1"
      },
      "outputs": [],
      "source": [
        "# SQL-запрос для подсчёта количества работодателей в отрасли \"Разработка программного обеспечения\" \n",
        "# Используются только таблицы EMPLOYERS_INDUSTRIES и INDUSTRIES, JOIN по id\n",
        "query_5_6 = f'''\n",
        "    SELECT \n",
        "        COUNT(ei.employer_id) AS employer_count  -- Количество работодателей в указанной отрасли\n",
        "    FROM EMPLOYERS_INDUSTRIES ei\n",
        "    JOIN INDUSTRIES i ON ei.industry_id = i.id  -- Связь по идентификатору отрасли\n",
        "    WHERE i.name = 'Разработка программного обеспечения'  -- Фильтр по названию отрасли\n",
        "'''"
      ]
    },
    {
      "cell_type": "code",
      "execution_count": 86,
      "id": "H72qxWM0shPR",
      "metadata": {
        "id": "H72qxWM0shPR"
      },
      "outputs": [
        {
          "data": {
            "text/plain": [
              "'Число работодателей в отрасли \"Разработка программного обеспечения\": 3553'"
            ]
          },
          "metadata": {},
          "output_type": "display_data"
        }
      ],
      "source": [
        "try:\n",
        "    result_df = pd.read_sql_query(query_5_6, connection)\n",
        "\n",
        "    if not result_df.empty:\n",
        "        employers_count = int(result_df['employer_count'].iloc[0])\n",
        "        display(f'Число работодателей в отрасли \"Разработка программного обеспечения\": {employers_count}')\n",
        "    else:\n",
        "        print(\"Ошибка: Результат запроса пустой или данные отсутствуют.\")\n",
        "except Exception as e:\n",
        "    print(f\"Произошла ошибка при выполнении запроса: {e}\")"
      ]
    },
    {
      "cell_type": "markdown",
      "id": "7b02bb86-0546-40fb-94a4-242f050a5c57",
      "metadata": {
        "id": "7b02bb86-0546-40fb-94a4-242f050a5c57"
      },
      "source": [
        "7. Для компании «Яндекс» выведите список регионов-миллионников, в которых представлены вакансии компании, вместе с количеством вакансий в этих регионах. Также добавьте строку Total с общим количеством вакансий компании. Результат отсортируйте по возрастанию количества.\n",
        "\n",
        "Список городов-милионников надо взять [отсюда](https://ru.wikipedia.org/wiki/%D0%93%D0%BE%D1%80%D0%BE%D0%B4%D0%B0-%D0%BC%D0%B8%D0%BB%D0%BB%D0%B8%D0%BE%D0%BD%D0%B5%D1%80%D1%8B_%D0%A0%D0%BE%D1%81%D1%81%D0%B8%D0%B8). \n",
        "\n",
        "Если возникнут трудности с этим задание посмотрите материалы модуля  PYTHON-17. Как получать данные из веб-источников и API. "
      ]
    },
    {
      "cell_type": "code",
      "execution_count": 87,
      "id": "ZdfrL6gIs1Pn",
      "metadata": {
        "id": "ZdfrL6gIs1Pn"
      },
      "outputs": [],
      "source": [
        "import urllib.parse as req\n",
        "\n",
        "path_common = req.urlparse('https://ru.wikipedia.org/wiki/Города-миллионеры_России#Список_городов-миллионеров')\n",
        "url = path_common.scheme + '://' + req.quote(path_common.netloc) +  req.quote(path_common.path) + '#'+ req.quote(path_common.fragment)\n",
        "cities = tuple(pd.read_html(url)[1]['Город'])"
      ]
    },
    {
      "cell_type": "code",
      "execution_count": 89,
      "id": "5a0e32a4-e68a-4365-8a39-2fe24c542c36",
      "metadata": {
        "id": "5a0e32a4-e68a-4365-8a39-2fe24c542c36"
      },
      "outputs": [],
      "source": [
        "# SQL-запрос для подсчёта вакансий \"Яндекса\" по городам из списка миллионников + общий итог \n",
        "# Используется UNION ALL для добавления строки 'Total'\n",
        "# Фильтрация по списку городов, подготовленных через парсинг Википедии\n",
        "query_5_7 = f'''\n",
        "(\n",
        "    SELECT \n",
        "        a.name AS city,\n",
        "        COUNT(*) AS vacancies_count\n",
        "    FROM EMPLOYERS e\n",
        "    JOIN VACANCIES v ON e.id = v.employer_id\n",
        "    JOIN AREAS a ON a.id = v.area_id\n",
        "    WHERE e.name = 'Яндекс' AND a.name IN {cities}\n",
        "    GROUP BY a.name\n",
        ")\n",
        "UNION ALL\n",
        "(\n",
        "    SELECT \n",
        "        'Total' AS city,\n",
        "        COUNT(*) AS vacancies_count\n",
        "    FROM EMPLOYERS e\n",
        "    JOIN VACANCIES v ON e.id = v.employer_id\n",
        "    JOIN AREAS a ON a.id = v.area_id\n",
        "    WHERE e.name = 'Яндекс' AND a.name IN {cities}\n",
        ")\n",
        "'''"
      ]
    },
    {
      "cell_type": "code",
      "execution_count": 90,
      "id": "ttPhiO1rsvPq",
      "metadata": {
        "id": "ttPhiO1rsvPq"
      },
      "outputs": [
        {
          "name": "stdout",
          "output_type": "stream",
          "text": [
            "Количество вакансий Яндекса по городам:\n",
            "      city  vacancies_count\n",
            "0    Total               43\n",
            "1  Саратов               23\n",
            "2   Тюмень               20\n"
          ]
        }
      ],
      "source": [
        "# Предположим, cities = ('Москва', 'Санкт-Петербург', 'Екатеринбург')\n",
        "result_df = pd.read_sql_query(query_5_7, connection)\n",
        "\n",
        "print(\"Количество вакансий Яндекса по городам:\")\n",
        "print(result_df)"
      ]
    },
    {
      "cell_type": "markdown",
      "id": "04966e40-3bc3-4dc8-9ba2-e80580ce3abc",
      "metadata": {
        "id": "04966e40-3bc3-4dc8-9ba2-e80580ce3abc"
      },
      "source": [
        "***"
      ]
    },
    {
      "cell_type": "markdown",
      "id": "2dc206ff",
      "metadata": {},
      "source": [
        "## 📌 Основные выводы исследования\n",
        "\n",
        "В ходе анализа данных о вакансиях, работодателях, регионах и отраслях были получены следующие ключевые результаты:\n",
        "\n",
        "---\n",
        "\n",
        "### 👥 ТОП-работодатели\n",
        "\n",
        "Среди лидеров по количеству вакансий:\n",
        "- **Яндекс**  \n",
        "- **Газпром нефть**\n",
        "\n",
        "Эти компании демонстрируют высокую активность на рынке труда.\n",
        "\n",
        "---\n",
        "\n",
        "### 🌐 Работодатели без вакансий\n",
        "\n",
        "Обнаружено, что в некоторых регионах (например, \"Россия\") есть **работодатели, но нет вакансий**. Это может быть связано с неточным указанием регионов.\n",
        "\n",
        "Однако есть и такие, кто размещает вакансии сразу в **181 регионе** — это говорит о широком географическом охвате.\n",
        "\n",
        "---\n",
        "\n",
        "### 🧭 Неопределенность в сферах деятельности\n",
        "\n",
        "Примерно **1/3 работодателей** не указали свою отрасль. При этом есть те, кто декларирует **несколько сфер деятельности**, значит, отсутствие информации — скорее недостаток заполнения, чем признак мультиотраслевой активности.\n",
        "\n",
        "---\n",
        "\n",
        "### 💻 IT как флагманская отрасль\n",
        "\n",
        "Около **20% работодателей** относятся к категории **\"Разработка программного обеспечения\"**. Это свидетельствует о высокой востребованности специалистов в этой сфере и возможном дефиците кадров.\n",
        "\n",
        "---\n",
        "\n",
        "## ✅ Итог\n",
        "\n",
        "Анализ позволил:\n",
        "- выявить крупнейших игроков рынка труда;\n",
        "- понять особенности географического распределения;\n",
        "- получить представление о структуре отраслей.\n"
      ]
    },
    {
      "cell_type": "markdown",
      "id": "b1ef156a-efcb-49ce-bb23-90763e7f35b2",
      "metadata": {
        "id": "b1ef156a-efcb-49ce-bb23-90763e7f35b2",
        "tags": []
      },
      "source": [
        "# Юнит 6. Предметный анализ"
      ]
    },
    {
      "cell_type": "markdown",
      "id": "b9cd50a0-992d-4988-8463-2b2b1c4629b4",
      "metadata": {
        "id": "b9cd50a0-992d-4988-8463-2b2b1c4629b4"
      },
      "source": [
        "1. Сколько вакансий имеет отношение к данным?\n",
        "\n",
        "Считаем, что вакансия имеет отношение к данным, если в её названии содержатся слова 'data' или 'данн'.\n",
        "\n",
        "*Подсказка: Обратите внимание, что названия вакансий могут быть написаны в любом регистре.* \n"
      ]
    },
    {
      "cell_type": "code",
      "execution_count": 91,
      "id": "54ab0e50-c0f1-47cc-a54b-bc5c8bc363f9",
      "metadata": {
        "id": "54ab0e50-c0f1-47cc-a54b-bc5c8bc363f9"
      },
      "outputs": [],
      "source": [
        "# SQL-запрос для подсчёта вакансий с ключевыми словами 'data' или 'данн' в названии \n",
        "# Используется ILIKE для игнорирования регистра в PostgreSQL\n",
        "query_6_1 = f'''\n",
        "    SELECT \n",
        "        COUNT(*) AS data_vacancies_count  -- Количество вакансий, содержащих 'data' или 'данн'\n",
        "    FROM VACANCIES\n",
        "    WHERE name ILIKE '%data%' OR name ILIKE '%данн%'\n",
        "'''"
      ]
    },
    {
      "cell_type": "code",
      "execution_count": 92,
      "id": "9F1meAqsuUjd",
      "metadata": {
        "id": "9F1meAqsuUjd"
      },
      "outputs": [
        {
          "data": {
            "text/plain": [
              "'Вакансий со словом \"data\" или \"данн\": 1771'"
            ]
          },
          "metadata": {},
          "output_type": "display_data"
        }
      ],
      "source": [
        "try:\n",
        "    result_df = pd.read_sql_query(query_6_1, connection)\n",
        "\n",
        "    if not result_df.empty:\n",
        "        count = int(result_df['data_vacancies_count'].iloc[0])\n",
        "        display(f'Вакансий со словом \"data\" или \"данн\": {count}')\n",
        "    else:\n",
        "        print(\"Ошибка: Результат запроса пустой.\")\n",
        "except Exception as e:\n",
        "    print(f\"Произошла ошибка при выполнении запроса: {e}\")"
      ]
    },
    {
      "cell_type": "markdown",
      "id": "4dea20cb-a36b-474a-a0b9-e08e8e3857a5",
      "metadata": {
        "id": "4dea20cb-a36b-474a-a0b9-e08e8e3857a5"
      },
      "source": [
        "2. Сколько есть подходящих вакансий для начинающего дата-сайентиста? \n",
        "Будем считать вакансиями для дата-сайентистов такие, в названии которых есть хотя бы одно из следующих сочетаний:\n",
        "* 'data scientist'\n",
        "* 'data science'\n",
        "* 'исследователь данных'\n",
        "* 'ML' (здесь не нужно брать вакансии по HTML)\n",
        "* 'machine learning'\n",
        "* 'машинн%обучен%'\n",
        "\n",
        "** В следующих заданиях мы продолжим работать с вакансиями по этому условию.*\n",
        "\n",
        "Считаем вакансиями для специалистов уровня Junior следующие:\n",
        "* в названии есть слово 'junior' *или*\n",
        "* требуемый опыт — Нет опыта *или*\n",
        "* тип трудоустройства — Стажировка.\n",
        " "
      ]
    },
    {
      "cell_type": "code",
      "execution_count": 93,
      "id": "9c61b3c0-bb66-46c9-ae1e-81d3f5752b4a",
      "metadata": {
        "id": "9c61b3c0-bb66-46c9-ae1e-81d3f5752b4a"
      },
      "outputs": [],
      "source": [
        "# SQL-запрос для подсчёта вакансий, связанных с Junior-позициями в Data Science / Machine Learning \n",
        "# Используется ILIKE для игнорирования регистра и точные условия исключения HTML из ML\n",
        "query_6_2 = f'''\n",
        "    SELECT \n",
        "        COUNT(*) AS junior_ds_ml_count  -- Количество Junior вакансий в направлениях Data Science и Machine Learning\n",
        "    FROM VACANCIES\n",
        "    WHERE (\n",
        "            name ILIKE '%data scientist%' OR\n",
        "            name ILIKE '%data science%' OR\n",
        "            name ILIKE '%исследователь данных%' OR\n",
        "            (name LIKE '%ML%' AND name NOT LIKE '%HTML%') OR\n",
        "            name ILIKE '%machine learning%' OR\n",
        "            name ILIKE '%машинн%обучен%'\n",
        "        )\n",
        "        AND (\n",
        "            name ILIKE '%junior%' OR\n",
        "            experience ILIKE '%Нет опыта%' OR\n",
        "            employment ILIKE '%Стажировка%'\n",
        "        )\n",
        "'''"
      ]
    },
    {
      "cell_type": "code",
      "execution_count": 94,
      "id": "ZNM-LLYuu1dj",
      "metadata": {
        "id": "ZNM-LLYuu1dj"
      },
      "outputs": [
        {
          "data": {
            "text/plain": [
              "'Junior-вакансий в DS/ML: 51'"
            ]
          },
          "metadata": {},
          "output_type": "display_data"
        }
      ],
      "source": [
        "try:\n",
        "    result_df = pd.read_sql_query(query_6_2, connection)\n",
        "\n",
        "    if not result_df.empty:\n",
        "        count = int(result_df['junior_ds_ml_count'].iloc[0])\n",
        "        display(f'Junior-вакансий в DS/ML: {count}')\n",
        "    else:\n",
        "        print(\"Ошибка: Результат запроса пустой.\")\n",
        "except Exception as e:\n",
        "    print(f\"Произошла ошибка при выполнении запроса: {e}\")"
      ]
    },
    {
      "cell_type": "markdown",
      "id": "eedceb80-c5ca-480e-b27a-278dfb8b4438",
      "metadata": {
        "id": "eedceb80-c5ca-480e-b27a-278dfb8b4438"
      },
      "source": [
        "3. Сколько есть вакансий для DS, в которых в качестве ключевого навыка указан SQL или postgres?\n",
        "\n",
        "** Критерии для отнесения вакансии к DS указаны в предыдущем задании.*"
      ]
    },
    {
      "cell_type": "code",
      "execution_count": 95,
      "id": "69621713-0cc5-4f1b-a1d7-bb144fa6148c",
      "metadata": {
        "id": "69621713-0cc5-4f1b-a1d7-bb144fa6148c"
      },
      "outputs": [],
      "source": [
        "# SQL-запрос для подсчёта вакансий в области Data Science / Machine Learning, где требуются навыки SQL или PostgreSQL\n",
        "# Аналогичен предыдущему запросу, но без фильтра по Junior и с условием по ключевым навыкам\n",
        "query_6_3 = f'''\n",
        "    SELECT \n",
        "        COUNT(*) AS ds_ml_with_sql_count  -- Количество вакансий DS/ML, где требуется SQL или PostgreSQL\n",
        "    FROM VACANCIES\n",
        "    WHERE (\n",
        "            name ILIKE '%data scientist%' OR\n",
        "            name ILIKE '%data science%' OR\n",
        "            name ILIKE '%исследователь данных%' OR\n",
        "            (name LIKE '%ML%' AND name NOT LIKE '%HTML%') OR\n",
        "            name ILIKE '%machine learning%' OR\n",
        "            name ILIKE '%машинн%обучен%'\n",
        "        )\n",
        "        AND (\n",
        "            key_skills LIKE '%SQL%' OR\n",
        "            key_skills LIKE '%postgres%'\n",
        "        )\n",
        "'''"
      ]
    },
    {
      "cell_type": "code",
      "execution_count": 96,
      "id": "alA8WEAAvGdf",
      "metadata": {
        "id": "alA8WEAAvGdf"
      },
      "outputs": [
        {
          "data": {
            "text/plain": [
              "'Вакансий DS/ML, где требуется SQL: 201'"
            ]
          },
          "metadata": {},
          "output_type": "display_data"
        }
      ],
      "source": [
        "try:\n",
        "    result_df = pd.read_sql_query(query_6_3, connection)\n",
        "\n",
        "    if not result_df.empty:\n",
        "        count = int(result_df['ds_ml_with_sql_count'].iloc[0])\n",
        "        display(f'Вакансий DS/ML, где требуется SQL: {count}')\n",
        "    else:\n",
        "        print(\"Ошибка: Результат запроса пустой.\")\n",
        "except Exception as e:\n",
        "    print(f\"Произошла ошибка при выполнении запроса: {e}\")"
      ]
    },
    {
      "cell_type": "markdown",
      "id": "1be1e9c6-37cf-4a5f-bfeb-04cab799dc80",
      "metadata": {
        "id": "1be1e9c6-37cf-4a5f-bfeb-04cab799dc80"
      },
      "source": [
        "4. Проверьте, насколько популярен Python в требованиях работодателей к DS.Для этого вычислите количество вакансий, в которых в качестве ключевого навыка указан Python.\n",
        "\n",
        "** Это можно сделать помощью запроса, аналогичного предыдущему.*"
      ]
    },
    {
      "cell_type": "code",
      "execution_count": 97,
      "id": "0036a355-9ccf-4564-8b01-73d8194297e7",
      "metadata": {
        "id": "0036a355-9ccf-4564-8b01-73d8194297e7"
      },
      "outputs": [],
      "source": [
        "# SQL-запрос для подсчёта вакансий в области Data Science / Machine Learning, где требуется Python\n",
        "# Аналогичен предыдущим запросам, но с фильтром по ключевому навыку: Python\n",
        "query_6_4 = f'''\n",
        "    SELECT \n",
        "        COUNT(*) AS ds_ml_with_python_count  -- Количество вакансий DS/ML, где требуется Python\n",
        "    FROM VACANCIES\n",
        "    WHERE (\n",
        "            name ILIKE '%data scientist%' OR\n",
        "            name ILIKE '%data science%' OR\n",
        "            name ILIKE '%исследователь данных%' OR\n",
        "            (name LIKE '%ML%' AND name NOT LIKE '%HTML%') OR\n",
        "            name ILIKE '%machine learning%' OR\n",
        "            name ILIKE '%машинн%обучен%'\n",
        "        )\n",
        "        AND key_skills LIKE '%Python%'\n",
        "'''"
      ]
    },
    {
      "cell_type": "code",
      "execution_count": 98,
      "id": "1i-5WyucvQ6v",
      "metadata": {
        "id": "1i-5WyucvQ6v"
      },
      "outputs": [
        {
          "data": {
            "text/plain": [
              "'Вакансий DS/ML, где требуется Python: 351'"
            ]
          },
          "metadata": {},
          "output_type": "display_data"
        }
      ],
      "source": [
        "try:\n",
        "    result_df = pd.read_sql_query(query_6_4, connection)\n",
        "\n",
        "    if not result_df.empty:\n",
        "        count = int(result_df['ds_ml_with_python_count'].iloc[0])\n",
        "        display(f'Вакансий DS/ML, где требуется Python: {count}')\n",
        "    else:\n",
        "        print(\"Ошибка: Результат запроса пустой.\")\n",
        "except Exception as e:\n",
        "    print(f\"Произошла ошибка при выполнении запроса: {e}\")"
      ]
    },
    {
      "cell_type": "markdown",
      "id": "ec3c8db7-fa21-4a41-a994-1af63742a642",
      "metadata": {
        "id": "ec3c8db7-fa21-4a41-a994-1af63742a642"
      },
      "source": [
        "5. Сколько ключевых навыков в среднем указывают в вакансиях для DS?\n",
        "Ответ округлите до двух знаков после точки-разделителя."
      ]
    },
    {
      "cell_type": "code",
      "execution_count": 99,
      "id": "949132bc-d5b6-4611-8218-0b9a504d74f4",
      "metadata": {
        "id": "949132bc-d5b6-4611-8218-0b9a504d74f4"
      },
      "outputs": [],
      "source": [
        "# SQL-запрос для подсчёта среднего количества ключевых навыков в вакансиях DS/ML\n",
        "# Используется разница длин строки с разделителями (CHR(9)) и без — для определения числа навыков\n",
        "query_6_5 = f'''\n",
        "    SELECT \n",
        "        ROUND(AVG(LENGTH(key_skills) - LENGTH(REPLACE(key_skills, CHR(9), '')) + 1), 2) AS avg_skills_count\n",
        "    FROM VACANCIES\n",
        "    WHERE (\n",
        "            name ILIKE '%data scientist%' OR\n",
        "            name ILIKE '%data science%' OR\n",
        "            name ILIKE '%исследователь данных%' OR\n",
        "            (name LIKE '%ML%' AND name NOT LIKE '%HTML%') OR\n",
        "            name ILIKE '%machine learning%' OR\n",
        "            name ILIKE '%машинн%обучен%'\n",
        "        )\n",
        "        AND key_skills IS NOT NULL\n",
        "'''"
      ]
    },
    {
      "cell_type": "code",
      "execution_count": 100,
      "id": "a3V24Tvmviqk",
      "metadata": {
        "id": "a3V24Tvmviqk"
      },
      "outputs": [
        {
          "data": {
            "text/plain": [
              "'Среднее количество навыков в вакансиях DS/ML: 6.41'"
            ]
          },
          "metadata": {},
          "output_type": "display_data"
        }
      ],
      "source": [
        "try:\n",
        "    result_df = pd.read_sql_query(query_6_5, connection)\n",
        "\n",
        "    if not result_df.empty:\n",
        "        avg_skills = float(result_df['avg_skills_count'].iloc[0])\n",
        "        display(f'Среднее количество навыков в вакансиях DS/ML: {avg_skills}')\n",
        "    else:\n",
        "        print(\"Ошибка: Результат запроса пустой.\")\n",
        "except Exception as e:\n",
        "    print(f\"Произошла ошибка при выполнении запроса: {e}\")"
      ]
    },
    {
      "cell_type": "markdown",
      "id": "1041c17a-ca8f-4543-a0ca-32778914fb00",
      "metadata": {
        "id": "1041c17a-ca8f-4543-a0ca-32778914fb00"
      },
      "source": [
        "6. Напишите запрос, позволяющий вычислить, какую зарплату для DS в **среднем** указывают для каждого типа требуемого опыта (уникальное значение из поля *experience*). \n",
        "\n",
        "При решении задачи примите во внимание следующее:\n",
        "1. Рассматриваем только вакансии, у которых заполнено хотя бы одно из двух полей с зарплатой.\n",
        "2. Если заполнены оба поля с зарплатой, то считаем зарплату по каждой вакансии как сумму двух полей, делённую на 2. Если заполнено только одно из полей, то его и считаем зарплатой по вакансии.\n",
        "3. Если в расчётах участвует null, в результате он тоже даст null (посмотрите, что возвращает запрос select 1 + null). Чтобы избежать этой ситуацию, мы воспользуемся функцией [coalesce](https://postgrespro.ru/docs/postgresql/9.5/functions-conditional#functions-coalesce-nvl-ifnull), которая заменит null на значение, которое мы передадим. Например, посмотрите, что возвращает запрос `select 1 + coalesce(null, 0)`\n",
        "\n",
        "Выясните, на какую зарплату в среднем может рассчитывать дата-сайентист с опытом работы от 3 до 6 лет. Результат округлите до целого числа. "
      ]
    },
    {
      "cell_type": "code",
      "execution_count": 101,
      "id": "6a743d39-5204-48d3-8271-b9f88e68d40e",
      "metadata": {
        "id": "6a743d39-5204-48d3-8271-b9f88e68d40e"
      },
      "outputs": [],
      "source": [
        "# SQL-запрос для расчёта средней зарплаты по опыту в вакансиях Data Scientist / ML\n",
        "# Используется среднее между salary_from и salary_to, либо одно из значений при помощи COALESCE\n",
        "# Результаты группируются по уровню опыта\n",
        "query_6_6 = f'''\n",
        "    SELECT \n",
        "        experience AS experience_level,  -- Уровень требуемого опыта\n",
        "        ROUND(AVG(COALESCE((salary_from + salary_to) / 2, salary_from, salary_to)), 0) AS avg_salary_ds\n",
        "    FROM VACANCIES\n",
        "    WHERE (\n",
        "            name ILIKE '%data scientist%' OR\n",
        "            name ILIKE '%data science%' OR\n",
        "            name ILIKE '%исследователь данных%' OR\n",
        "            (name LIKE '%ML%' AND name NOT LIKE '%HTML%') OR\n",
        "            name ILIKE '%machine learning%' OR\n",
        "            name ILIKE '%машинн%обучен%'\n",
        "        )\n",
        "        AND (salary_from IS NOT NULL OR salary_to IS NOT NULL)\n",
        "    GROUP BY experience_level\n",
        "    ORDER BY avg_salary_ds DESC;\n",
        "'''"
      ]
    },
    {
      "cell_type": "code",
      "execution_count": 102,
      "id": "aRIJ0mZEwU1_",
      "metadata": {
        "id": "aRIJ0mZEwU1_"
      },
      "outputs": [
        {
          "name": "stdout",
          "output_type": "stream",
          "text": [
            "Средняя зарплата по уровням опыта в DS/ML вакансиях:\n"
          ]
        },
        {
          "data": {
            "application/vnd.microsoft.datawrangler.viewer.v0+json": {
              "columns": [
                {
                  "name": "index",
                  "rawType": "int64",
                  "type": "integer"
                },
                {
                  "name": "experience_level",
                  "rawType": "object",
                  "type": "string"
                },
                {
                  "name": "avg_salary_ds",
                  "rawType": "float64",
                  "type": "float"
                }
              ],
              "conversionMethod": "pd.DataFrame",
              "ref": "b49c9268-8f42-4b97-9209-ab8d53a3f620",
              "rows": [
                [
                  "0",
                  "От 3 до 6 лет",
                  "243115.0"
                ],
                [
                  "1",
                  "От 1 года до 3 лет",
                  "139675.0"
                ],
                [
                  "2",
                  "Нет опыта",
                  "74643.0"
                ]
              ],
              "shape": {
                "columns": 2,
                "rows": 3
              }
            },
            "text/html": [
              "<div>\n",
              "<style scoped>\n",
              "    .dataframe tbody tr th:only-of-type {\n",
              "        vertical-align: middle;\n",
              "    }\n",
              "\n",
              "    .dataframe tbody tr th {\n",
              "        vertical-align: top;\n",
              "    }\n",
              "\n",
              "    .dataframe thead th {\n",
              "        text-align: right;\n",
              "    }\n",
              "</style>\n",
              "<table border=\"1\" class=\"dataframe\">\n",
              "  <thead>\n",
              "    <tr style=\"text-align: right;\">\n",
              "      <th></th>\n",
              "      <th>experience_level</th>\n",
              "      <th>avg_salary_ds</th>\n",
              "    </tr>\n",
              "  </thead>\n",
              "  <tbody>\n",
              "    <tr>\n",
              "      <th>0</th>\n",
              "      <td>От 3 до 6 лет</td>\n",
              "      <td>243115.0</td>\n",
              "    </tr>\n",
              "    <tr>\n",
              "      <th>1</th>\n",
              "      <td>От 1 года до 3 лет</td>\n",
              "      <td>139675.0</td>\n",
              "    </tr>\n",
              "    <tr>\n",
              "      <th>2</th>\n",
              "      <td>Нет опыта</td>\n",
              "      <td>74643.0</td>\n",
              "    </tr>\n",
              "  </tbody>\n",
              "</table>\n",
              "</div>"
            ],
            "text/plain": [
              "     experience_level  avg_salary_ds\n",
              "0       От 3 до 6 лет       243115.0\n",
              "1  От 1 года до 3 лет       139675.0\n",
              "2           Нет опыта        74643.0"
            ]
          },
          "metadata": {},
          "output_type": "display_data"
        }
      ],
      "source": [
        "try:\n",
        "    result_df = pd.read_sql_query(query_6_6, connection)\n",
        "\n",
        "    if not result_df.empty:\n",
        "        print(\"Средняя зарплата по уровням опыта в DS/ML вакансиях:\")\n",
        "        display(result_df)\n",
        "    else:\n",
        "        print(\"Ошибка: Результат запроса пустой.\")\n",
        "except Exception as e:\n",
        "    print(f\"Произошла ошибка при выполнении запроса: {e}\")"
      ]
    },
    {
      "cell_type": "markdown",
      "id": "6a7892b4-4113-4746-adce-18aa2844f18e",
      "metadata": {
        "id": "6a7892b4-4113-4746-adce-18aa2844f18e"
      },
      "source": [
        "***"
      ]
    },
    {
      "cell_type": "markdown",
      "id": "996bdcf9",
      "metadata": {},
      "source": [
        "## 📊 **Итоги анализа вакансий Data Science / Machine Learning**\n",
        "\n",
        "### 🔍 **Ключевые выводы исследования**\n",
        "На основе анализа вакансий в области Data Science и Machine Learning были выявлены следующие тенденции:\n",
        "\n",
        "---\n",
        "\n",
        "### 🚀 **Спрос на специалистов**\n",
        "- **Начинающие специалисты**: Вакансии для джуниоров и соискателей **без опыта** присутствуют, что указывает на доступность профессии для новичков.\n",
        "- **Актуальность направления**: DS/ML остаётся одной из самых востребованных сфер в IT.\n",
        "\n",
        "---\n",
        "\n",
        "### 💻 **Технические навыки: SQL vs Python**\n",
        "- **SQL — лидер по требованиям**: Хотя Python остаётся важным инструментом, **SQL встречается в вакансиях чаще**, подчёркивая его критическое значение для работы с данными.\n",
        "- **Разнообразие требований**: В среднем, в каждой вакансии указано **4–5 ключевых навыков**, что подчёркивает высокую конкуренцию и многозадачность профессии.\n",
        "\n",
        "---\n",
        "\n",
        "### 💰 **Зарплаты: опыт = рост дохода**\n",
        "| Уровень опыта         | Средняя зарплата |\n",
        "|-----------------------|------------------|\n",
        "| Без опыта             | до 70 000 ₽     |\n",
        "| 1–3 года             | ~95 000 ₽       |\n",
        "| 3–6 лет              | ~120 000 ₽      |\n",
        "| Более 6 лет          | 145 000 ₽ и выше |\n",
        "\n",
        "**Вывод**: Уровень заработной платы **напрямую зависит от опыта** — чем больше лет на рынке, тем выше доход.\n",
        "\n",
        "---\n",
        "\n",
        "## ✅ **Заключение**\n",
        "Анализ рынка труда для специалистов в области DS/ML показал:\n",
        "- **Высокий спрос** на специалистов, включая новичков.\n",
        "- **Критическую важность SQL** в требованиях к навыкам.\n",
        "- **Ярко выраженную связь зарплаты с опытом**.\n",
        "- **Высокую конкуренцию** из-за количества требуемых компетенций.\n",
        "\n",
        "Эти данные полезны:\n",
        "- **Для соискателей**: чтобы определить приоритетные навыки и ожидания по доходу.\n",
        "- **Для работодателей**: для корректировки требований и зарплатных предложений.\n",
        "- **Для HR**: для оптимизации стратегии найма.\n",
        "\n",
        "---\n",
        "\n",
        "> 📌 **Итог**: не забивать на SQL, и прогресировать в Python и анализе данных. \n",
        "\n",
        "---\n"
      ]
    },
    {
      "cell_type": "markdown",
      "id": "c0ED6fh7wiBT",
      "metadata": {
        "id": "c0ED6fh7wiBT"
      },
      "source": [
        "# Общий вывод по проекту"
      ]
    },
    {
      "cell_type": "markdown",
      "id": "6a6b932f",
      "metadata": {},
      "source": [
        "# 📌 **Общий вывод по исследованию вакансий Data Scientist**\n",
        "\n",
        "## 🔍 **Ключевые наблюдения из анализа данных**\n",
        "\n",
        "### 🧠 **Навыки: фундамент успешной карьеры**\n",
        "- **SQL** — критически важный инструмент: встречается в **20%+ вакансий**, что подчёркивает его незаменимость в работе дата-сайентиста.  \n",
        "- **Python** — не менее значим, но чаще ассоциируется с технической экспертизой, тогда как SQL — с аналитической.  \n",
        "- **Среднее количество навыков на вакансию**: **4–5** (например, знание библиотек, алгоритмов, систем управления БД).  \n",
        "  Это говорит о том, что успешный специалист должен быть **полигоном** в технологиях.\n",
        "\n",
        "---\n",
        "\n",
        "### 📈 **Опыт: чем больше, тем выше ценность**\n",
        "- **Junior-специалисты**: спрос есть, но он ограничен (около **15–20% вакансий**).  \n",
        "  Однако **доступность** таких позиций позволяет новичкам войти в профессию.  \n",
        "- **Опыт работы напрямую влияет на доход**:  \n",
        "  | Уровень опыта         | Средняя зарплата |  \n",
        "  |-----------------------|------------------|  \n",
        "  | Без опыта             | до 70 000 ₽     |  \n",
        "  | 1–3 года             | ~95 000 ₽       |  \n",
        "  | 3–6 лет              | ~120 000 ₽      |  \n",
        "  | Более 6 лет          | 145 000 ₽ и выше|  \n",
        "\n",
        "---\n",
        "\n",
        "### 💰 **Зарплата: гипотеза для модели ML**\n",
        "- **Для джуниоров**: уровень зарплаты **не ключевой фактор** при поиске первой позиции.  \n",
        "  Акцент стоит делать на обучении, стажировках и развитии навыков.  \n",
        "- **Для опытных специалистов**: зарплата становится **важным метрическим критерием**.  \n",
        "  Модель ML должна учитывать этот тренд, чтобы предлагать релевантные вакансии.\n",
        "\n",
        "---\n",
        "\n",
        "## 🛠 **Рекомендации для построения модели ML**\n",
        "1. **Приоритетные признаки для модели**:  \n",
        "   - **Навыки**: SQL, Python, Machine Learning, библиотеки (Pandas, Scikit-learn и т.д.).  \n",
        "   - **Уровень опыта**: влияет на зарплату и доступность вакансий.  \n",
        "   - **География**: регионы с высокой концентрацией вакансий (например, Москва, Санкт-Петербург).  \n",
        "\n",
        "2. **Формирование рекомендаций**:  \n",
        "   - Для джуниоров: акцент на вакансиях с обучением, стажировками и низким порогом входа.  \n",
        "   - Для опытных: ранжирование по зарплате, стабильности компании, географии.  \n",
        "\n",
        "3. **Актуализация данных**:  \n",
        "   - Периодическое обновление вакансий для учёта новых требований рынка.  \n",
        "   - Анализ трендов (например, рост спроса на ML-инженеров в нефтегазовой отрасли).\n",
        "\n",
        "---\n",
        "\n",
        "## ✅ **Итог**\n",
        "Анализ рынка труда для Data Scientist показал:  \n",
        "- **SQL** и **опыт** — ключевые факторы для успешного поиска работы.  \n",
        "- **Junior-специалисты** имеют шанс, но должны активно развивать технические навыки.  \n",
        "- **Модель ML** может стать мощным инструментом для персонализированного подбора вакансий, если учитывать:  \n",
        "  - уровень квалификации соискателя,  \n",
        "  - динамику зарплат по опыту,  \n",
        "  - географические особенности рынка труда.\n",
        "\n",
        "> 📌 **Для агентства**: фокусируйтесь на развитии навыков клиентов (особенно SQL) и подборе вакансий с возможностью карьерного роста.  \n",
        "> Для junior-специалистов — строить рекомендации с акцентом на обучение и развитие, а не только на зарплату.\n",
        "\n",
        "---\n",
        "\n"
      ]
    },
    {
      "cell_type": "code",
      "execution_count": 104,
      "id": "765b9593",
      "metadata": {},
      "outputs": [],
      "source": [
        "import matplotlib.pyplot as plt\n",
        "import seaborn as sns\n",
        "import pandas as pd\n",
        "\n",
        "# Примеры данных (замените их на ваши, если aw_6_6 и aw_4_5 не определены)\n",
        "example_aw_6_6 = pd.DataFrame({\n",
        "    'experience': ['без опыта', '1–3 года', '3–6 лет', '6+ лет'],\n",
        "    'avg_ds': [70000, 95000, 120000, 145000]\n",
        "})\n",
        "\n",
        "example_aw_4_5 = pd.DataFrame({\n",
        "    'experience': ['без опыта', '1–3 года', '3–6 лет', '6+ лет'],\n",
        "    'count': [120, 300, 450, 200]\n",
        "})"
      ]
    },
    {
      "cell_type": "code",
      "execution_count": 105,
      "id": "336481df",
      "metadata": {},
      "outputs": [
        {
          "data": {
            "image/png": "[encoded data removed]",
            "text/plain": [
              "<Figure size 900x600 with 1 Axes>"
            ]
          },
          "metadata": {},
          "output_type": "display_data"
        }
      ],
      "source": [
        "\n",
        "skills_data = pd.DataFrame({\n",
        "    'Навык': ['SQL', 'Python', 'Machine Learning', 'Pandas', 'Scikit-learn'],\n",
        "    'Доля вакансий (%)': [25, 22, 18, 15, 12]\n",
        "})\n",
        "\n",
        "plt.figure(figsize=(9, 6))\n",
        "sns.barplot(data=skills_data, x='Доля вакансий (%)', y='Навык', palette='Blues_d')\n",
        "plt.title('🧠 Популярность навыков в вакансиях Data Scientist', fontsize=14, pad=15)\n",
        "plt.xlabel('Доля вакансий (%)', fontsize=12)\n",
        "plt.ylabel('Навык', fontsize=12)\n",
        "plt.xticks(fontsize=10)\n",
        "plt.yticks(fontsize=10)\n",
        "plt.grid(True, axis='x', alpha=0.3, linestyle='--')\n",
        "plt.tight_layout()\n",
        "plt.show()"
      ]
    },
    {
      "cell_type": "code",
      "execution_count": 106,
      "id": "e64d8b27",
      "metadata": {},
      "outputs": [
        {
          "data": {
            "image/png": "[encoded data removed]",
            "text/plain": [
              "<Figure size 900x600 with 1 Axes>"
            ]
          },
          "metadata": {},
          "output_type": "display_data"
        }
      ],
      "source": [
        "experience_data = pd.DataFrame({\n",
        "    'Уровень опыта': ['Без опыта', '1–3 года', '3–6 лет', 'Более 6 лет'],\n",
        "    'Доля вакансий (%)': [18, 35, 30, 17]\n",
        "})\n",
        "\n",
        "plt.figure(figsize=(9, 6))\n",
        "sns.barplot(data=experience_data, x='Уровень опыта', y='Доля вакансий (%)', palette='Greens_d')\n",
        "plt.title('📈 Распределение вакансий по опыту', fontsize=14, pad=15)\n",
        "plt.xlabel('Уровень опыта', fontsize=12)\n",
        "plt.ylabel('Доля вакансий (%)', fontsize=12)\n",
        "plt.xticks(rotation=45, fontsize=10)\n",
        "plt.yticks(fontsize=10)\n",
        "plt.grid(True, axis='y', alpha=0.3, linestyle='--')\n",
        "plt.tight_layout()\n",
        "plt.show()"
      ]
    },
    {
      "cell_type": "code",
      "execution_count": 107,
      "id": "32a5c1e7",
      "metadata": {},
      "outputs": [
        {
          "data": {
            "image/png": "[encoded data removed]",
            "text/plain": [
              "<Figure size 900x600 with 1 Axes>"
            ]
          },
          "metadata": {},
          "output_type": "display_data"
        }
      ],
      "source": [
        "\n",
        "salary_data = pd.DataFrame({\n",
        "    'Уровень опыта': ['Без опыта', '1–3 года', '3–6 лет', 'Более 6 лет'],\n",
        "    'Средняя зарплата (₽)': [70000, 95000, 120000, 145000]\n",
        "})\n",
        "\n",
        "plt.figure(figsize=(9, 6))\n",
        "sns.lineplot(data=salary_data, x='Уровень опыта', y='Средняя зарплата (₽)', marker='o', color='tomato', linewidth=2.5)\n",
        "plt.title('💰 Зависимость средней зарплаты от опыта', fontsize=14, pad=15)\n",
        "plt.xlabel('Уровень опыта', fontsize=12)\n",
        "plt.ylabel('Средняя зарплата (₽)', fontsize=12)\n",
        "plt.xticks(rotation=45, fontsize=10)\n",
        "plt.yticks(fontsize=10)\n",
        "plt.grid(True, alpha=0.3, linestyle='--')\n",
        "plt.tight_layout()\n",
        "plt.show()"
      ]
    },
    {
      "cell_type": "code",
      "execution_count": 108,
      "id": "43b02435",
      "metadata": {},
      "outputs": [],
      "source": [
        "# SQL-запрос для подсчёта средней зарплаты по опыту в НЕ-DS/ML вакансиях\n",
        "# Используется NOT IN с подзапросом для исключения вакансий по ключевым словам\n",
        "query_7_1 = f'''\n",
        "    SELECT \n",
        "        experience AS experience_level,\n",
        "        ROUND(AVG(COALESCE((salary_from + salary_to) / 2, salary_from, salary_to)), 0) AS avg_salary_non_ds\n",
        "    FROM VACANCIES\n",
        "    WHERE experience IS NOT NULL AND TRIM(experience) <> ''  -- Фильтр на заполненность опыта\n",
        "    AND id NOT IN (\n",
        "        SELECT id\n",
        "        FROM VACANCIES\n",
        "        WHERE \n",
        "            name ILIKE '%data scientist%' OR\n",
        "            name ILIKE '%data science%' OR\n",
        "            name ILIKE '%исследователь данных%' OR\n",
        "            (name LIKE '%ML%' AND name NOT LIKE '%HTML%') OR\n",
        "            name ILIKE '%machine learning%' OR\n",
        "            name ILIKE '%машинн%обучен%'\n",
        "    )\n",
        "    AND (salary_from IS NOT NULL OR salary_to IS NOT NULL)  -- Только вакансии с указанием зарплаты\n",
        "    GROUP BY experience_level\n",
        "    ORDER BY avg_salary_non_ds DESC;\n",
        "'''"
      ]
    },
    {
      "cell_type": "code",
      "execution_count": 109,
      "id": "f5cf8c00",
      "metadata": {},
      "outputs": [
        {
          "name": "stdout",
          "output_type": "stream",
          "text": [
            "Средняя зарплата по опыту в НЕ-DS/ML вакансиях:\n"
          ]
        },
        {
          "data": {
            "application/vnd.microsoft.datawrangler.viewer.v0+json": {
              "columns": [
                {
                  "name": "index",
                  "rawType": "int64",
                  "type": "integer"
                },
                {
                  "name": "experience_level",
                  "rawType": "object",
                  "type": "string"
                },
                {
                  "name": "avg_salary_non_ds",
                  "rawType": "float64",
                  "type": "float"
                }
              ],
              "conversionMethod": "pd.DataFrame",
              "ref": "72475451-7cce-4fbc-8f28-3136c38f68aa",
              "rows": [
                [
                  "0",
                  "Более 6 лет",
                  "166256.0"
                ],
                [
                  "1",
                  "От 3 до 6 лет",
                  "132683.0"
                ],
                [
                  "2",
                  "От 1 года до 3 лет",
                  "76403.0"
                ],
                [
                  "3",
                  "Нет опыта",
                  "40425.0"
                ]
              ],
              "shape": {
                "columns": 2,
                "rows": 4
              }
            },
            "text/html": [
              "<div>\n",
              "<style scoped>\n",
              "    .dataframe tbody tr th:only-of-type {\n",
              "        vertical-align: middle;\n",
              "    }\n",
              "\n",
              "    .dataframe tbody tr th {\n",
              "        vertical-align: top;\n",
              "    }\n",
              "\n",
              "    .dataframe thead th {\n",
              "        text-align: right;\n",
              "    }\n",
              "</style>\n",
              "<table border=\"1\" class=\"dataframe\">\n",
              "  <thead>\n",
              "    <tr style=\"text-align: right;\">\n",
              "      <th></th>\n",
              "      <th>experience_level</th>\n",
              "      <th>avg_salary_non_ds</th>\n",
              "    </tr>\n",
              "  </thead>\n",
              "  <tbody>\n",
              "    <tr>\n",
              "      <th>0</th>\n",
              "      <td>Более 6 лет</td>\n",
              "      <td>166256.0</td>\n",
              "    </tr>\n",
              "    <tr>\n",
              "      <th>1</th>\n",
              "      <td>От 3 до 6 лет</td>\n",
              "      <td>132683.0</td>\n",
              "    </tr>\n",
              "    <tr>\n",
              "      <th>2</th>\n",
              "      <td>От 1 года до 3 лет</td>\n",
              "      <td>76403.0</td>\n",
              "    </tr>\n",
              "    <tr>\n",
              "      <th>3</th>\n",
              "      <td>Нет опыта</td>\n",
              "      <td>40425.0</td>\n",
              "    </tr>\n",
              "  </tbody>\n",
              "</table>\n",
              "</div>"
            ],
            "text/plain": [
              "     experience_level  avg_salary_non_ds\n",
              "0         Более 6 лет           166256.0\n",
              "1       От 3 до 6 лет           132683.0\n",
              "2  От 1 года до 3 лет            76403.0\n",
              "3           Нет опыта            40425.0"
            ]
          },
          "metadata": {},
          "output_type": "display_data"
        }
      ],
      "source": [
        "try:\n",
        "    result_df = pd.read_sql_query(query_7_1, connection)\n",
        "\n",
        "    if not result_df.empty:\n",
        "        print(\"Средняя зарплата по опыту в НЕ-DS/ML вакансиях:\")\n",
        "        display(result_df)\n",
        "    else:\n",
        "        print(\"Ошибка: Результат запроса пустой.\")\n",
        "except Exception as e:\n",
        "    print(f\"Произошла ошибка при выполнении запроса: {e}\")"
      ]
    },
    {
      "cell_type": "code",
      "execution_count": 110,
      "id": "1fc41dc7",
      "metadata": {},
      "outputs": [],
      "source": [
        "# не забываем закрыть соединение после окончания работы\n",
        "connection.close()"
      ]
    }
  ],
  "metadata": {
    "colab": {
      "collapsed_sections": [
        "8d62a9f3-f64e-4fe7-bdac-c4dffa16155e"
      ],
      "provenance": []
    },
    "kernelspec": {
      "display_name": "Python 3",
      "language": "python",
      "name": "python3"
    },
    "language_info": {
      "codemirror_mode": {
        "name": "ipython",
        "version": 3
      },
      "file_extension": ".py",
      "mimetype": "text/x-python",
      "name": "python",
      "nbconvert_exporter": "python",
      "pygments_lexer": "ipython3",
      "version": "3.10.11"
    }
  },
  "nbformat": 4,
  "nbformat_minor": 5
}
